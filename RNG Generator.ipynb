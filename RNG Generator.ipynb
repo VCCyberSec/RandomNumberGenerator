{
 "cells": [
  {
   "cell_type": "code",
   "execution_count": 2,
   "metadata": {},
   "outputs": [
    {
     "name": "stdout",
     "output_type": "stream",
     "text": [
      "Generated unique random numbers in ascending order: [1, 5, 6, 8, 9]\n"
     ]
    }
   ],
   "source": [
    "import random\n",
    "\n",
    "def generate_unique_random_numbers(amount, start, end):\n",
    "    if amount > (end - start + 1):\n",
    "        raise ValueError(\"The range is too small to generate the requested amount of unique numbers.\")\n",
    "    \n",
    "    random_numbers = random.sample(range(start, end + 1), amount)\n",
    "    return sorted(random_numbers)\n",
    "\n",
    "# User inputs with validation\n",
    "while True:\n",
    "    try:\n",
    "        amount = int(input(\"Enter the number of unique random numbers to generate: \"))\n",
    "        if amount <= 0:\n",
    "            raise ValueError(\"The number of random numbers must be greater than 0.\")\n",
    "        start = int(input(\"Enter the starting range: \"))\n",
    "        if start <= 0:\n",
    "            raise ValueError(\"The starting range must be greater than 0.\")\n",
    "        end = int(input(\"Enter the ending range: \"))\n",
    "        if end <= 0:\n",
    "            raise ValueError(\"The ending range must be greater than 0.\")\n",
    "        if start >= end:\n",
    "            raise ValueError(\"The starting range must be less than the ending range.\")\n",
    "        break\n",
    "    except ValueError as e:\n",
    "        print(e)\n",
    "\n",
    "# Generate unique random numbers\n",
    "try:\n",
    "    random_numbers = generate_unique_random_numbers(amount, start, end)\n",
    "    print(\"Generated unique random numbers in ascending order:\", random_numbers)\n",
    "except ValueError as e:\n",
    "    print(e)"
   ]
  },
  {
   "cell_type": "code",
   "execution_count": null,
   "metadata": {},
   "outputs": [],
   "source": []
  }
 ],
 "metadata": {
  "kernelspec": {
   "display_name": "Python 3",
   "language": "python",
   "name": "python3"
  },
  "language_info": {
   "codemirror_mode": {
    "name": "ipython",
    "version": 3
   },
   "file_extension": ".py",
   "mimetype": "text/x-python",
   "name": "python",
   "nbconvert_exporter": "python",
   "pygments_lexer": "ipython3",
   "version": "3.12.4"
  }
 },
 "nbformat": 4,
 "nbformat_minor": 2
}
